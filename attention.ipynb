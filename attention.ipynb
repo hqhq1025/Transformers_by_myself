{
 "cells": [
  {
   "cell_type": "code",
   "execution_count": 31,
   "id": "9f171240",
   "metadata": {},
   "outputs": [],
   "source": [
    "import torch\n",
    "from torch import nn\n",
    "import math"
   ]
  },
  {
   "cell_type": "code",
   "execution_count": 32,
   "id": "40069b51",
   "metadata": {},
   "outputs": [],
   "source": [
    "x = torch.rand(128,32,512)\n",
    "d_model = 512\n",
    "n_head = 8"
   ]
  },
  {
   "cell_type": "code",
   "execution_count": 33,
   "id": "5a86f7a8",
   "metadata": {},
   "outputs": [],
   "source": [
    "class MultiHeadAttention(nn.Module):\n",
    "    def __init__(self, d_model, n_head):\n",
    "        super(MultiHeadAttention,self).__init__()\n",
    "        self.n_head = n_head\n",
    "        self.d_model = d_model\n",
    "        self.w_q = nn.Linear(d_model, d_model)\n",
    "        self.w_k = nn.Linear(d_model, d_model)\n",
    "        self.w_v = nn.Linear(d_model, d_model)\n",
    "        self.w_contact = nn.Linear(d_model, d_model)\n",
    "        self.softmax = nn.Softmax(dim = -1)\n",
    "        \n",
    "    def forward(self, q, k, v, mask = None):\n",
    "        batch, time, dimension = q.shape\n",
    "        n_d = self.d_model // self.n_head\n",
    "        q,k,v = self.w_q(q), self.w_k(k), self.w_v(v)\n",
    "        q = q.view(batch, time, self.n_head, n_d).permute(0,2,1,3)\n",
    "        k = k.view(batch, time, self.n_head, n_d).permute(0,2,1,3)\n",
    "        v = v.view(batch, time, self.n_head, n_d).permute(0,2,1,3)\n",
    "        score = q@k.transpose(2,3)/math.sqrt(n_d)\n",
    "        if mask is not None:\n",
    "            score = score.masked_fill(mask == 0, -10000)\n",
    "        score = self.softmax(score)@v\n",
    "        score = score.permute(0,2,1,3).contiguous().view(batch,time,self.d_model)\n",
    "        out = self.w_contact(score)\n",
    "        return out\n",
    "    \n",
    "attention = MultiHeadAttention(d_model, n_head)"
   ]
  },
  {
   "cell_type": "code",
   "execution_count": 34,
   "id": "aacc45bb",
   "metadata": {},
   "outputs": [
    {
     "name": "stdout",
     "output_type": "stream",
     "text": [
      "tensor([[[ 0.1082, -0.2425, -0.1160,  ..., -0.0229, -0.6229,  0.0131],\n",
      "         [ 0.1086, -0.2435, -0.1159,  ..., -0.0228, -0.6220,  0.0138],\n",
      "         [ 0.1093, -0.2435, -0.1167,  ..., -0.0219, -0.6226,  0.0131],\n",
      "         ...,\n",
      "         [ 0.1085, -0.2436, -0.1158,  ..., -0.0233, -0.6225,  0.0135],\n",
      "         [ 0.1085, -0.2428, -0.1159,  ..., -0.0227, -0.6227,  0.0135],\n",
      "         [ 0.1085, -0.2434, -0.1167,  ..., -0.0219, -0.6229,  0.0130]],\n",
      "\n",
      "        [[ 0.0436, -0.2910, -0.1107,  ..., -0.0446, -0.5965, -0.0157],\n",
      "         [ 0.0435, -0.2916, -0.1114,  ..., -0.0446, -0.5968, -0.0169],\n",
      "         [ 0.0442, -0.2900, -0.1104,  ..., -0.0444, -0.5957, -0.0167],\n",
      "         ...,\n",
      "         [ 0.0438, -0.2906, -0.1108,  ..., -0.0443, -0.5971, -0.0163],\n",
      "         [ 0.0438, -0.2907, -0.1110,  ..., -0.0444, -0.5970, -0.0175],\n",
      "         [ 0.0434, -0.2906, -0.1110,  ..., -0.0450, -0.5971, -0.0166]],\n",
      "\n",
      "        [[ 0.0795, -0.2862, -0.1042,  ..., -0.0468, -0.6145,  0.0090],\n",
      "         [ 0.0792, -0.2858, -0.1037,  ..., -0.0482, -0.6147,  0.0095],\n",
      "         [ 0.0800, -0.2869, -0.1051,  ..., -0.0469, -0.6139,  0.0090],\n",
      "         ...,\n",
      "         [ 0.0797, -0.2861, -0.1044,  ..., -0.0476, -0.6134,  0.0096],\n",
      "         [ 0.0788, -0.2864, -0.1044,  ..., -0.0474, -0.6141,  0.0087],\n",
      "         [ 0.0791, -0.2869, -0.1045,  ..., -0.0473, -0.6146,  0.0090]],\n",
      "\n",
      "        ...,\n",
      "\n",
      "        [[ 0.0937, -0.2721, -0.0990,  ..., -0.0348, -0.6389,  0.0064],\n",
      "         [ 0.0946, -0.2726, -0.0994,  ..., -0.0341, -0.6389,  0.0071],\n",
      "         [ 0.0941, -0.2734, -0.0989,  ..., -0.0335, -0.6384,  0.0072],\n",
      "         ...,\n",
      "         [ 0.0941, -0.2741, -0.0995,  ..., -0.0342, -0.6392,  0.0076],\n",
      "         [ 0.0929, -0.2734, -0.0988,  ..., -0.0342, -0.6396,  0.0068],\n",
      "         [ 0.0934, -0.2728, -0.0991,  ..., -0.0340, -0.6394,  0.0064]],\n",
      "\n",
      "        [[ 0.0991, -0.2780, -0.0811,  ..., -0.0311, -0.5904, -0.0139],\n",
      "         [ 0.0980, -0.2775, -0.0809,  ..., -0.0317, -0.5913, -0.0136],\n",
      "         [ 0.0988, -0.2771, -0.0806,  ..., -0.0321, -0.5905, -0.0127],\n",
      "         ...,\n",
      "         [ 0.0990, -0.2771, -0.0805,  ..., -0.0313, -0.5914, -0.0138],\n",
      "         [ 0.0986, -0.2783, -0.0803,  ..., -0.0308, -0.5906, -0.0129],\n",
      "         [ 0.0987, -0.2778, -0.0799,  ..., -0.0308, -0.5911, -0.0136]],\n",
      "\n",
      "        [[ 0.0523, -0.2476, -0.0868,  ..., -0.0344, -0.6433, -0.0035],\n",
      "         [ 0.0517, -0.2479, -0.0861,  ..., -0.0347, -0.6430, -0.0024],\n",
      "         [ 0.0524, -0.2476, -0.0859,  ..., -0.0349, -0.6427, -0.0029],\n",
      "         ...,\n",
      "         [ 0.0525, -0.2481, -0.0865,  ..., -0.0346, -0.6418, -0.0039],\n",
      "         [ 0.0525, -0.2478, -0.0873,  ..., -0.0333, -0.6421, -0.0035],\n",
      "         [ 0.0521, -0.2481, -0.0865,  ..., -0.0340, -0.6417, -0.0034]]],\n",
      "       grad_fn=<ViewBackward0>)\n"
     ]
    }
   ],
   "source": [
    "out = attention(x,x,x)\n",
    "print(out)"
   ]
  }
 ],
 "metadata": {
  "kernelspec": {
   "display_name": "base",
   "language": "python",
   "name": "python3"
  },
  "language_info": {
   "codemirror_mode": {
    "name": "ipython",
    "version": 3
   },
   "file_extension": ".py",
   "mimetype": "text/x-python",
   "name": "python",
   "nbconvert_exporter": "python",
   "pygments_lexer": "ipython3",
   "version": "3.12.4"
  }
 },
 "nbformat": 4,
 "nbformat_minor": 5
}
