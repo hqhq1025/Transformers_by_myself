{
 "cells": [
  {
   "cell_type": "code",
   "execution_count": 1,
   "id": "27cc0274",
   "metadata": {},
   "outputs": [],
   "source": [
    "import torch\n",
    "from torch import nn\n",
    "from torch.nn import functional as F\n",
    "import math"
   ]
  },
  {
   "cell_type": "code",
   "execution_count": 3,
   "id": "3ea0848e",
   "metadata": {},
   "outputs": [
    {
     "data": {
      "text/plain": [
       "tensor([[0.4947, 0.4680, 0.1846, 0.4052],\n",
       "        [0.7304, 0.0817, 0.8249, 0.0355],\n",
       "        [0.9310, 0.1803, 0.1162, 0.6853],\n",
       "        [0.0309, 0.6938, 0.6365, 0.2480]])"
      ]
     },
     "execution_count": 3,
     "metadata": {},
     "output_type": "execute_result"
    }
   ],
   "source": [
    "random_torch = torch.rand(4,4)\n",
    "random_torch"
   ]
  },
  {
   "cell_type": "code",
   "execution_count": 6,
   "id": "57882e79",
   "metadata": {},
   "outputs": [],
   "source": [
    "class TokenEmbedding(nn.Embedding):\n",
    "    def __init__(self, vocab_size, d_model):\n",
    "        super(TokenEmbedding, self).__init__(vocab_size, d_model, padding_idx=1)"
   ]
  },
  {
   "cell_type": "code",
   "execution_count": 5,
   "id": "2b7864d1",
   "metadata": {},
   "outputs": [],
   "source": [
    "class PositionalEmbedding(nn.Module):\n",
    "    def __init__(self, d_model, max_len, device):\n",
    "        super(PositionalEmbedding, self).__init__()\n",
    "        self.encoding = torch.zeros(max_len, d_model, device=device)\n",
    "        self.encoding.requires_grad = False\n",
    "        pos=torch.arange(0, max_len, device=device)\n",
    "        pos = pos.float().unsqueeze(dim = 1)\n",
    "        _2i = torch.arange(0, d_model, step = 2, device = device).float()\n",
    "        self.encoding[:,0::2] = torch.sin(pos/(10000**(_2i/d_model)))\n",
    "        self.decoding[:,1::2] = torch.cos(pos/(10000**(_2i/d_model)))\n",
    "        \n",
    "    def forward(self,x):\n",
    "        batch_size, seq_len = x.size()\n",
    "        return self.encoding[:seq_len,:]\n",
    "        "
   ]
  },
  {
   "cell_type": "code",
   "execution_count": null,
   "id": "61e5b0a8",
   "metadata": {},
   "outputs": [],
   "source": [
    "class TransformerEmbedding(nn.Module):\n",
    "    def __init__(self, vocab_size, d_model, max_len, drop_prob, device):\n",
    "        super(TransformerEmbedding,self).__init__()\n",
    "        self.tok_emb = TokenEmbedding(vocab_size, d_model)\n",
    "        self.pos_emb = PositionalEmbedding(d_model, max_len, device)\n",
    "        self.drop_out = nn.Dropout(p=drop_prob)\n",
    "        \n",
    "    def forward(self,x):\n",
    "        tok_emb = self.tok_emb\n",
    "        pos_emb = self.pos_emb\n",
    "        return self.drop_out(tok_emb+pos_emb)\n",
    "    "
   ]
  }
 ],
 "metadata": {
  "kernelspec": {
   "display_name": "base",
   "language": "python",
   "name": "python3"
  },
  "language_info": {
   "codemirror_mode": {
    "name": "ipython",
    "version": 3
   },
   "file_extension": ".py",
   "mimetype": "text/x-python",
   "name": "python",
   "nbconvert_exporter": "python",
   "pygments_lexer": "ipython3",
   "version": "3.12.4"
  }
 },
 "nbformat": 4,
 "nbformat_minor": 5
}
